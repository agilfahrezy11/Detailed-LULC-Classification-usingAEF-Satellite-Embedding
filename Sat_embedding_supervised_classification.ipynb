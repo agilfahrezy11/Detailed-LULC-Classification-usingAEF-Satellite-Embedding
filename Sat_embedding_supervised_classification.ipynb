{
 "cells": [
  {
   "cell_type": "markdown",
   "id": "0b33ff9d",
   "metadata": {},
   "source": [
    "## Testing the New AlphaEarth Foundations Satellite Embedding Dataset for Detailed Land Use Land Cover Classification\n",
    "This script contain the classification process of Detailed Land Use Land Cover, while implementing SNI Classification scheme. This script use Google Earth Engine Python API, which were process entirely on cloud computing platform. The training data is created using visual interpretation, assisted with Indonesia Topographical Map\n",
    "This script is organized as follows:\n",
    "1. Library Import and platform preparation\n",
    "2. Data Preparation\n",
    "3. Parameter Optimization\n",
    "4. Classification\n",
    "5. Model Evaluation"
   ]
  },
  {
   "cell_type": "markdown",
   "id": "f1534e81",
   "metadata": {},
   "source": [
    "**1. Importing the Necessary Library and credentials**"
   ]
  },
  {
   "cell_type": "code",
   "execution_count": 2,
   "id": "1ef1d9ad",
   "metadata": {},
   "outputs": [],
   "source": [
    "# import the library\n",
    "import ee\n",
    "import geemap\n",
    "from geemap import ee_export_image_collection_to_drive\n",
    "import numpy as np\n",
    "import matplotlib as plt\n",
    "import pandas as pd\n",
    "import matplotlib.pyplot as plt\n",
    "from gee_utils import get_sat_embedding, extract_pixel_value, rf_tuning\n",
    "# Initialize Earth Engine\n",
    "ee.Authenticate()\n",
    "ee.Initialize()"
   ]
  },
  {
   "cell_type": "markdown",
   "id": "0ba2e670",
   "metadata": {},
   "source": [
    "**2. Data Preparation**\n",
    "1. Define the area of interest (AOI)\n",
    "2. Use *get_sat_embedding* function from *gee_utils.py* to filtered, and clip the dataset\n",
    "3. Mosaic the images, since the area of interest is covered by two time periods (2023-2024 and 2024- 2025)"
   ]
  },
  {
   "cell_type": "code",
   "execution_count": 3,
   "id": "73de0ea2",
   "metadata": {},
   "outputs": [
    {
     "data": {
      "text/html": [
       "\n",
       "            <style>\n",
       "                .geemap-dark {\n",
       "                    --jp-widgets-color: white;\n",
       "                    --jp-widgets-label-color: white;\n",
       "                    --jp-ui-font-color1: white;\n",
       "                    --jp-layout-color2: #454545;\n",
       "                    background-color: #383838;\n",
       "                }\n",
       "\n",
       "                .geemap-dark .jupyter-button {\n",
       "                    --jp-layout-color3: #383838;\n",
       "                }\n",
       "\n",
       "                .geemap-colab {\n",
       "                    background-color: var(--colab-primary-surface-color, white);\n",
       "                }\n",
       "\n",
       "                .geemap-colab .jupyter-button {\n",
       "                    --jp-layout-color3: var(--colab-primary-surface-color, white);\n",
       "                }\n",
       "            </style>\n",
       "            "
      ],
      "text/plain": [
       "<IPython.core.display.HTML object>"
      ]
     },
     "metadata": {},
     "output_type": "display_data"
    }
   ],
   "source": [
    "#example of Area of Interest \n",
    "aoi = ee.FeatureCollection('projects/ee-agilakbar/assets/AOI_Garsel_L9')\n",
    "# Get embeddings for two different periods\n",
    "image_2024 = get_sat_embedding(aoi, 2024, 2025)\n",
    "#add visualization parameter\n",
    "vis_params = {'min': -0.3, 'max': 0.3, \n",
    "              'bands': ['A01', 'A16', 'A09']}"
   ]
  },
  {
   "cell_type": "markdown",
   "id": "d5b4b34d",
   "metadata": {},
   "source": [
    "***2.1 Visualize the satellite embedding data***"
   ]
  },
  {
   "cell_type": "code",
   "execution_count": 4,
   "id": "d2de395c",
   "metadata": {},
   "outputs": [
    {
     "data": {
      "text/html": [
       "\n",
       "            <style>\n",
       "                .geemap-dark {\n",
       "                    --jp-widgets-color: white;\n",
       "                    --jp-widgets-label-color: white;\n",
       "                    --jp-ui-font-color1: white;\n",
       "                    --jp-layout-color2: #454545;\n",
       "                    background-color: #383838;\n",
       "                }\n",
       "\n",
       "                .geemap-dark .jupyter-button {\n",
       "                    --jp-layout-color3: #383838;\n",
       "                }\n",
       "\n",
       "                .geemap-colab {\n",
       "                    background-color: var(--colab-primary-surface-color, white);\n",
       "                }\n",
       "\n",
       "                .geemap-colab .jupyter-button {\n",
       "                    --jp-layout-color3: var(--colab-primary-surface-color, white);\n",
       "                }\n",
       "            </style>\n",
       "            "
      ],
      "text/plain": [
       "<IPython.core.display.HTML object>"
      ]
     },
     "metadata": {},
     "output_type": "display_data"
    },
    {
     "data": {
      "application/vnd.jupyter.widget-view+json": {
       "model_id": "d44943a0f2c94637a3e956ba0b809a45",
       "version_major": 2,
       "version_minor": 0
      },
      "text/plain": [
       "Map(center=[-7.500685301245826, 107.75130712444813], controls=(WidgetControl(options=['position', 'transparent…"
      ]
     },
     "execution_count": 4,
     "metadata": {},
     "output_type": "execute_result"
    }
   ],
   "source": [
    "# Adding Basemap\n",
    "m = geemap.Map()\n",
    "# set center of the map in the area of interest\n",
    "m.centerObject(aoi, 10)\n",
    "# adding the data\n",
    "m.addLayer(image_2024, vis_params, 'Mosaic_embedd_2023-2024')\n",
    "m"
   ]
  },
  {
   "cell_type": "markdown",
   "id": "ac631467",
   "metadata": {},
   "source": [
    "***2.2 Defined the region of interest (ROI)***\n",
    "<br>\n",
    "1. The roi is created using visual interpretation using Landsat collection data, containing 21 Land Cover and Land\n",
    "Use classes, based on Indonesia's official classification system (SNI)\n",
    "2. Partitioned the original ROI into training and testing data using ***extract_pixel_value*** function. The partitioning process implement random partitioned with 60% allocated as training data and 40% as testing data\n"
   ]
  },
  {
   "cell_type": "code",
   "execution_count": 5,
   "id": "29755091",
   "metadata": {},
   "outputs": [
    {
     "data": {
      "text/html": [
       "\n",
       "            <style>\n",
       "                .geemap-dark {\n",
       "                    --jp-widgets-color: white;\n",
       "                    --jp-widgets-label-color: white;\n",
       "                    --jp-ui-font-color1: white;\n",
       "                    --jp-layout-color2: #454545;\n",
       "                    background-color: #383838;\n",
       "                }\n",
       "\n",
       "                .geemap-dark .jupyter-button {\n",
       "                    --jp-layout-color3: #383838;\n",
       "                }\n",
       "\n",
       "                .geemap-colab {\n",
       "                    background-color: var(--colab-primary-surface-color, white);\n",
       "                }\n",
       "\n",
       "                .geemap-colab .jupyter-button {\n",
       "                    --jp-layout-color3: var(--colab-primary-surface-color, white);\n",
       "                }\n",
       "            </style>\n",
       "            "
      ],
      "text/plain": [
       "<IPython.core.display.HTML object>"
      ]
     },
     "metadata": {},
     "output_type": "display_data"
    }
   ],
   "source": [
    "# defining the training data\n",
    "labeled_roi = ee.FeatureCollection('projects/ee-agilakbar/assets/LULC_Training_data_Garsel_project')\n",
    "# partitioned the ROI into training and testing data, then extract the pixel values (sample regions)\n",
    "train_samples, test_samples = extract_pixel_value(\n",
    "    image=image_2024,\n",
    "    roi=labeled_roi,\n",
    "    class_property='LUCID',\n",
    "    scale=10,\n",
    "    split_ratio=0.7,\n",
    "    tile_scale=16\n",
    ")"
   ]
  },
  {
   "cell_type": "markdown",
   "id": "9440e3a5",
   "metadata": {},
   "source": [
    "**3. Parameter Optimization**\n",
    "<br>\n",
    "Since google earth engine did not have built-in parameter optimization, manual testing of the parameters is conducted. The SMILE Random Forest classifier is implemented, in which three primary parameters is tested, namely number of estimator (n_trees), number of variable selected per split (var_split), and minimum leaf population (min_leaf_pop)"
   ]
  },
  {
   "cell_type": "code",
   "execution_count": 20,
   "id": "917b8b51",
   "metadata": {},
   "outputs": [
    {
     "data": {
      "text/html": [
       "\n",
       "            <style>\n",
       "                .geemap-dark {\n",
       "                    --jp-widgets-color: white;\n",
       "                    --jp-widgets-label-color: white;\n",
       "                    --jp-ui-font-color1: white;\n",
       "                    --jp-layout-color2: #454545;\n",
       "                    background-color: #383838;\n",
       "                }\n",
       "\n",
       "                .geemap-dark .jupyter-button {\n",
       "                    --jp-layout-color3: #383838;\n",
       "                }\n",
       "\n",
       "                .geemap-colab {\n",
       "                    background-color: var(--colab-primary-surface-color, white);\n",
       "                }\n",
       "\n",
       "                .geemap-colab .jupyter-button {\n",
       "                    --jp-layout-color3: var(--colab-primary-surface-color, white);\n",
       "                }\n",
       "            </style>\n",
       "            "
      ],
      "text/plain": [
       "<IPython.core.display.HTML object>"
      ]
     },
     "metadata": {},
     "output_type": "display_data"
    }
   ],
   "source": [
    "#Parameter space\n",
    "num_trees = [100, 200, 300]\n",
    "var_split = [1,2,3,8,11,15]\n",
    "min_leaf_pop = [1,2,3, 5, 9, 11]\n",
    "#apply the function\n",
    "results_rf = rf_tuning(\n",
    "    train=train_samples, #Training data, with pixel value\n",
    "    test=test_samples, #testingd data with pixel value\n",
    "    band_names=image_2024.bandNames(), #band names \n",
    "    class_property='LUCID', #class labels\n",
    "    n_tree_list=num_trees, #tree parameter space\n",
    "    var_split_list=var_split, #variable split space\n",
    "    min_leaf_pop_list=min_leaf_pop #minimum leaf pop space\n",
    ")"
   ]
  },
  {
   "cell_type": "markdown",
   "id": "5b07ca2a",
   "metadata": {},
   "source": [
    "Time increase if three parameter were used, fast classification is achieved when two parameter only used"
   ]
  },
  {
   "cell_type": "markdown",
   "id": "a96e9de4",
   "metadata": {},
   "source": [
    "***3.1 Inspect the best parameters***"
   ]
  },
  {
   "cell_type": "code",
   "execution_count": 22,
   "id": "cd124448",
   "metadata": {},
   "outputs": [
    {
     "data": {
      "text/html": [
       "\n",
       "            <style>\n",
       "                .geemap-dark {\n",
       "                    --jp-widgets-color: white;\n",
       "                    --jp-widgets-label-color: white;\n",
       "                    --jp-ui-font-color1: white;\n",
       "                    --jp-layout-color2: #454545;\n",
       "                    background-color: #383838;\n",
       "                }\n",
       "\n",
       "                .geemap-dark .jupyter-button {\n",
       "                    --jp-layout-color3: #383838;\n",
       "                }\n",
       "\n",
       "                .geemap-colab {\n",
       "                    background-color: var(--colab-primary-surface-color, white);\n",
       "                }\n",
       "\n",
       "                .geemap-colab .jupyter-button {\n",
       "                    --jp-layout-color3: var(--colab-primary-surface-color, white);\n",
       "                }\n",
       "            </style>\n",
       "            "
      ],
      "text/plain": [
       "<IPython.core.display.HTML object>"
      ]
     },
     "metadata": {},
     "output_type": "display_data"
    },
    {
     "name": "stdout",
     "output_type": "stream",
     "text": [
      "   numberOfTrees  variablesPerSplit  MinimumleafPopulation0  accuracy\n",
      "1            100                  1                       2  0.891327\n",
      "0            100                  1                       1  0.890692\n",
      "2            100                  1                       3  0.886429\n",
      "3            100                  1                       5  0.886288\n",
      "5            100                  1                      11  0.882897\n",
      "Best Hyperparameters:\n",
      "- Accuracy: 0.891\n",
      "- numberOfTrees: 100.0\n",
      "- variablesPerSplit: 1.0\n",
      "- Minimum number of leaf population: 2.0\n"
     ]
    }
   ],
   "source": [
    "#convert the result into panda data frame\n",
    "df_rf = pd.DataFrame(results_rf)\n",
    "df_rf = df_rf.sort_values(by='accuracy', ascending=False)\n",
    "print(df_rf.head())\n",
    "#get the best parameters and accuracy\n",
    "best_result = df_rf.iloc[0]\n",
    "print(\"Best Hyperparameters:\")\n",
    "print(f\"- Accuracy: {best_result['accuracy']:.3f}\")\n",
    "print(f\"- numberOfTrees: {best_result['numberOfTrees']}\")\n",
    "print(f\"- variablesPerSplit: {best_result['variablesPerSplit']}\")\n",
    "print(f\"- Minimum number of leaf population: {best_result ['MinimumleafPopulation0']}\")"
   ]
  },
  {
   "cell_type": "markdown",
   "id": "e3c2bfcb",
   "metadata": {},
   "source": [
    "***3.2 Select the best parameters,  trained the classifier, and apply the model into the whole imagery***"
   ]
  },
  {
   "cell_type": "code",
   "execution_count": 23,
   "id": "ed2ae363",
   "metadata": {},
   "outputs": [
    {
     "data": {
      "text/html": [
       "\n",
       "            <style>\n",
       "                .geemap-dark {\n",
       "                    --jp-widgets-color: white;\n",
       "                    --jp-widgets-label-color: white;\n",
       "                    --jp-ui-font-color1: white;\n",
       "                    --jp-layout-color2: #454545;\n",
       "                    background-color: #383838;\n",
       "                }\n",
       "\n",
       "                .geemap-dark .jupyter-button {\n",
       "                    --jp-layout-color3: #383838;\n",
       "                }\n",
       "\n",
       "                .geemap-colab {\n",
       "                    background-color: var(--colab-primary-surface-color, white);\n",
       "                }\n",
       "\n",
       "                .geemap-colab .jupyter-button {\n",
       "                    --jp-layout-color3: var(--colab-primary-surface-color, white);\n",
       "                }\n",
       "            </style>\n",
       "            "
      ],
      "text/plain": [
       "<IPython.core.display.HTML object>"
      ]
     },
     "metadata": {},
     "output_type": "display_data"
    }
   ],
   "source": [
    "#get the best parameters\n",
    "best_ntree = int(best_result['numberOfTrees'])\n",
    "best_vsplit = int(best_result['variablesPerSplit'])\n",
    "best_min_leaf = int(best_result['MinimumleafPopulation0'])\n",
    "#apply the best parameters, and trained the model\n",
    "final_classifier = ee.Classifier.smileRandomForest(\n",
    "    numberOfTrees=best_ntree,\n",
    "    variablesPerSplit=best_vsplit,\n",
    "    minLeafPopulation=best_min_leaf\n",
    ").train(\n",
    "    features=train_samples,\n",
    "    classProperty='LUCID',\n",
    "    inputProperties=image_2024.bandNames()\n",
    ")\n",
    "#apply the trained model into the whole image\n",
    "lulc_map = image_2024.classify(final_classifier)"
   ]
  },
  {
   "cell_type": "markdown",
   "id": "d42f9a76",
   "metadata": {},
   "source": [
    "**4. Visualize the result of the classification**"
   ]
  },
  {
   "cell_type": "code",
   "execution_count": 24,
   "id": "3e52d822",
   "metadata": {},
   "outputs": [
    {
     "data": {
      "text/html": [
       "\n",
       "            <style>\n",
       "                .geemap-dark {\n",
       "                    --jp-widgets-color: white;\n",
       "                    --jp-widgets-label-color: white;\n",
       "                    --jp-ui-font-color1: white;\n",
       "                    --jp-layout-color2: #454545;\n",
       "                    background-color: #383838;\n",
       "                }\n",
       "\n",
       "                .geemap-dark .jupyter-button {\n",
       "                    --jp-layout-color3: #383838;\n",
       "                }\n",
       "\n",
       "                .geemap-colab {\n",
       "                    background-color: var(--colab-primary-surface-color, white);\n",
       "                }\n",
       "\n",
       "                .geemap-colab .jupyter-button {\n",
       "                    --jp-layout-color3: var(--colab-primary-surface-color, white);\n",
       "                }\n",
       "            </style>\n",
       "            "
      ],
      "text/plain": [
       "<IPython.core.display.HTML object>"
      ]
     },
     "metadata": {},
     "output_type": "display_data"
    },
    {
     "data": {
      "application/vnd.jupyter.widget-view+json": {
       "model_id": "3cca8dfde480475a885a20aabe2a287b",
       "version_major": 2,
       "version_minor": 0
      },
      "text/plain": [
       "Map(center=[-7.500685301245826, 107.75130712444813], controls=(WidgetControl(options=['position', 'transparent…"
      ]
     },
     "execution_count": 24,
     "metadata": {},
     "output_type": "execute_result"
    }
   ],
   "source": [
    "legend_21 = [\n",
    "    'Settlement Build-up', 'Non-settlement Build-up', 'Volcanic Rock and Sand', 'Lowland Forest',\n",
    "    'Upland Forest', 'Mangrove Forest', 'Marine Sand', 'Herbs and Grassland', 'Production Forest',\n",
    "    'Aquaculture', 'Dryland Agriculture', 'Natural Fallow Land', 'Man-made Fallow Land', 'Rubber and Other Hardwood Plantation',\n",
    "    'Ocean Waters','Oil Palm Plantatation','Tea Plantation', 'Bushes and Shrubs', 'Rivers', 'Wetland Agriculture',\n",
    "    'Natural/Semi Natural Freshwaterbody'\n",
    "]\n",
    "\n",
    "legend_colors = [\n",
    "    '#FF0000', '#e97421', '#7b3531', '#2e8b57', '#228b22', '#7fffd4', '#fdd9b5',\n",
    "    '#c1e1c1', '#9acd32', '#ccccff', '#f5ff00', '#b5a642', '#cc8899', '#32cd32',\n",
    "    '#1f52dc', '#808000', '#98d97d', '#008080', '#87ceeb', '#afb325', '#0f3c5e'\n",
    "]\n",
    "Map = geemap.Map()\n",
    "\n",
    "# Visualization\n",
    "vis_params = {\n",
    "    'min': 0,\n",
    "    'max': len(legend_colors) - 1,\n",
    "    'palette': legend_colors\n",
    "}\n",
    "Map.centerObject(aoi, 10)\n",
    "Map.addLayer(lulc_map, vis_params, 'Classified Map')\n",
    "# Add legend\n",
    "Map.add_legend(title='Land Cover Legend', labels=legend_21, colors=legend_colors)\n",
    "Map"
   ]
  },
  {
   "cell_type": "markdown",
   "id": "dc76d32b",
   "metadata": {},
   "source": [
    "**5. Inspect the Model using feature importance analysis**"
   ]
  },
  {
   "cell_type": "code",
   "execution_count": 10,
   "id": "27fba83b",
   "metadata": {},
   "outputs": [
    {
     "data": {
      "text/html": [
       "\n",
       "            <style>\n",
       "                .geemap-dark {\n",
       "                    --jp-widgets-color: white;\n",
       "                    --jp-widgets-label-color: white;\n",
       "                    --jp-ui-font-color1: white;\n",
       "                    --jp-layout-color2: #454545;\n",
       "                    background-color: #383838;\n",
       "                }\n",
       "\n",
       "                .geemap-dark .jupyter-button {\n",
       "                    --jp-layout-color3: #383838;\n",
       "                }\n",
       "\n",
       "                .geemap-colab {\n",
       "                    background-color: var(--colab-primary-surface-color, white);\n",
       "                }\n",
       "\n",
       "                .geemap-colab .jupyter-button {\n",
       "                    --jp-layout-color3: var(--colab-primary-surface-color, white);\n",
       "                }\n",
       "            </style>\n",
       "            "
      ],
      "text/plain": [
       "<IPython.core.display.HTML object>"
      ]
     },
     "metadata": {},
     "output_type": "display_data"
    }
   ],
   "source": [
    "# Get the raw importance dictionary\n",
    "importance_dict = ee.Dictionary(final_classifier.explain().get('importance'))\n",
    "# Sum of importance values\n",
    "importance_sum = importance_dict.values().reduce(ee.Reducer.sum())\n",
    "# Calculate relative importance (percentage)\n",
    "relative_importance = importance_dict.map(\n",
    "    lambda key, val: ee.Number(val).multiply(100).divide(importance_sum)\n",
    ")\n",
    "# Convert to FeatureCollection so it can be viewed/exported\n",
    "importance_fc = ee.FeatureCollection([\n",
    "    ee.Feature(None, relative_importance)\n",
    "])"
   ]
  },
  {
   "cell_type": "code",
   "execution_count": 11,
   "id": "4cd14247",
   "metadata": {},
   "outputs": [
    {
     "data": {
      "text/html": [
       "\n",
       "            <style>\n",
       "                .geemap-dark {\n",
       "                    --jp-widgets-color: white;\n",
       "                    --jp-widgets-label-color: white;\n",
       "                    --jp-ui-font-color1: white;\n",
       "                    --jp-layout-color2: #454545;\n",
       "                    background-color: #383838;\n",
       "                }\n",
       "\n",
       "                .geemap-dark .jupyter-button {\n",
       "                    --jp-layout-color3: #383838;\n",
       "                }\n",
       "\n",
       "                .geemap-colab {\n",
       "                    background-color: var(--colab-primary-surface-color, white);\n",
       "                }\n",
       "\n",
       "                .geemap-colab .jupyter-button {\n",
       "                    --jp-layout-color3: var(--colab-primary-surface-color, white);\n",
       "                }\n",
       "            </style>\n",
       "            "
      ],
      "text/plain": [
       "<IPython.core.display.HTML object>"
      ]
     },
     "metadata": {},
     "output_type": "display_data"
    },
    {
     "name": "stdout",
     "output_type": "stream",
     "text": [
      "   Band  Relative Importance (%)\n",
      "61  A61                 1.659889\n",
      "9   A09                 1.642193\n",
      "54  A54                 1.640989\n",
      "2   A02                 1.639092\n",
      "8   A08                 1.637000\n",
      "..  ...                      ...\n",
      "19  A19                 1.485703\n",
      "62  A62                 1.474936\n",
      "17  A17                 1.471931\n",
      "49  A49                 1.453284\n",
      "24  A24                 1.444384\n",
      "\n",
      "[64 rows x 2 columns]\n"
     ]
    }
   ],
   "source": [
    "# Convert dictionary to Python dict\n",
    "importance_data = relative_importance.getInfo()\n",
    "# Convert to pandas DataFrame\n",
    "df_importance = pd.DataFrame(list(importance_data.items()), columns=['Band', 'Relative Importance (%)'])\n",
    "# Sort by importance\n",
    "df_importance = df_importance.sort_values(by='Relative Importance (%)', ascending=False)\n",
    "print(df_importance)"
   ]
  },
  {
   "cell_type": "code",
   "execution_count": 12,
   "id": "5cab3e05",
   "metadata": {},
   "outputs": [
    {
     "data": {
      "text/html": [
       "\n",
       "            <style>\n",
       "                .geemap-dark {\n",
       "                    --jp-widgets-color: white;\n",
       "                    --jp-widgets-label-color: white;\n",
       "                    --jp-ui-font-color1: white;\n",
       "                    --jp-layout-color2: #454545;\n",
       "                    background-color: #383838;\n",
       "                }\n",
       "\n",
       "                .geemap-dark .jupyter-button {\n",
       "                    --jp-layout-color3: #383838;\n",
       "                }\n",
       "\n",
       "                .geemap-colab {\n",
       "                    background-color: var(--colab-primary-surface-color, white);\n",
       "                }\n",
       "\n",
       "                .geemap-colab .jupyter-button {\n",
       "                    --jp-layout-color3: var(--colab-primary-surface-color, white);\n",
       "                }\n",
       "            </style>\n",
       "            "
      ],
      "text/plain": [
       "<IPython.core.display.HTML object>"
      ]
     },
     "metadata": {},
     "output_type": "display_data"
    },
    {
     "data": {
      "image/png": "[encoded data removed]",
      "text/plain": [
       "<Figure size 1000x800 with 1 Axes>"
      ]
     },
     "metadata": {},
     "output_type": "display_data"
    }
   ],
   "source": [
    "#plot the feature importance using matplot lib\n",
    "# Optional: Show only top 20 features\n",
    "top_n = 20\n",
    "df_plot = df_importance.tail(top_n)\n",
    "\n",
    "# Plot\n",
    "plt.figure(figsize=(10, 8))\n",
    "plt.barh(df_plot['Band'], df_plot['Relative Importance (%)'], color='steelblue')\n",
    "plt.xlabel('Relative Importance (%)')\n",
    "plt.title(f'Top {top_n} Most Important Features (Random Forest)', fontsize=14)\n",
    "plt.xticks(fontsize=10)\n",
    "plt.yticks(fontsize=10)\n",
    "plt.tight_layout()\n",
    "plt.show()"
   ]
  },
  {
   "cell_type": "markdown",
   "id": "b9671ed7",
   "metadata": {},
   "source": [
    "**6. Export the result in Google Drive**"
   ]
  },
  {
   "cell_type": "code",
   "execution_count": 14,
   "id": "97d490e7",
   "metadata": {},
   "outputs": [
    {
     "data": {
      "text/html": [
       "\n",
       "            <style>\n",
       "                .geemap-dark {\n",
       "                    --jp-widgets-color: white;\n",
       "                    --jp-widgets-label-color: white;\n",
       "                    --jp-ui-font-color1: white;\n",
       "                    --jp-layout-color2: #454545;\n",
       "                    background-color: #383838;\n",
       "                }\n",
       "\n",
       "                .geemap-dark .jupyter-button {\n",
       "                    --jp-layout-color3: #383838;\n",
       "                }\n",
       "\n",
       "                .geemap-colab {\n",
       "                    background-color: var(--colab-primary-surface-color, white);\n",
       "                }\n",
       "\n",
       "                .geemap-colab .jupyter-button {\n",
       "                    --jp-layout-color3: var(--colab-primary-surface-color, white);\n",
       "                }\n",
       "            </style>\n",
       "            "
      ],
      "text/plain": [
       "<IPython.core.display.HTML object>"
      ]
     },
     "metadata": {},
     "output_type": "display_data"
    },
    {
     "name": "stdout",
     "output_type": "stream",
     "text": [
      "Exporting... (status: READY)\n",
      "Export complete (status: FAILED)\n"
     ]
    }
   ],
   "source": [
    "export_task = ee.batch.Export.image.toDrive(\n",
    "    image=lulc_map,\n",
    "    description='Update_RF_LC_sat_embed',\n",
    "    folder='Earth Engine',\n",
    "    fileNamePrefix='Update_RF_LC_sat_embed',\n",
    "    scale=10,\n",
    "    region=image_2024.geometry(),  # or aoi.geometry()\n",
    "    maxPixels=1e13\n",
    ")\n",
    "export_task.start()\n",
    "import time\n",
    "\n",
    "while export_task.active():\n",
    "    print('Exporting... (status: {})'.format(export_task.status()['state']))\n",
    "    time.sleep(10)\n",
    "\n",
    "print('Export complete (status: {})'.format(export_task.status()['state']))"
   ]
  }
 ],
 "metadata": {
  "kernelspec": {
   "display_name": "Python 3",
   "language": "python",
   "name": "python3"
  },
  "language_info": {
   "codemirror_mode": {
    "name": "ipython",
    "version": 3
   },
   "file_extension": ".py",
   "mimetype": "text/x-python",
   "name": "python",
   "nbconvert_exporter": "python",
   "pygments_lexer": "ipython3",
   "version": "3.11.9"
  }
 },
 "nbformat": 4,
 "nbformat_minor": 5
}
