{
 "cells": [
  {
   "cell_type": "markdown",
   "id": "0b33ff9d",
   "metadata": {},
   "source": [
    "## Testing the New AlphaEarth Foundations Satellite Embedding Dataset for Detailed Land Use Land Cover Classification\n",
    "This script contain the classification process of Detailed Land Use Land Cover, while implementing SNI Classification scheme. This script use Google Earth Engine Python API, which were process entirely on cloud computing platform. The training data is created using visual interpretation, assisted with Indonesia Topographical Map\n",
    "This script is organized as follows:\n",
    "1. Library Import and platform preparation\n",
    "2. Data Preparation\n",
    "3. Parameter Optimization\n",
    "4. Classification\n",
    "5. Model Evaluation"
   ]
  },
  {
   "cell_type": "markdown",
   "id": "f1534e81",
   "metadata": {},
   "source": [
    "**1. Importing the Necessary Library and credentials**"
   ]
  },
  {
   "cell_type": "code",
   "execution_count": 1,
   "id": "1ef1d9ad",
   "metadata": {},
   "outputs": [],
   "source": [
    "# import the library\n",
    "import ee\n",
    "import geemap\n",
    "from geemap import ee_export_image_collection_to_drive\n",
    "import numpy as np\n",
    "import matplotlib as plt\n",
    "import pandas as pd\n",
    "import matplotlib.pyplot as plt\n",
    "from gee_utils import get_sat_embedding\n",
    "from gee_utils import extract_pixel_value\n",
    "# Initialize Earth Engine\n",
    "ee.Authenticate()\n",
    "ee.Initialize()"
   ]
  },
  {
   "cell_type": "markdown",
   "id": "0ba2e670",
   "metadata": {},
   "source": [
    "**2. Data Preparation**\n",
    "1. Define the area of interest (AOI)\n",
    "2. Use *get_sat_embedding* function from *gee_utils.py* to filtered, and clip the dataset\n",
    "3. Mosaic the images, since the area of interest is covered by two time periods (2023-2024 and 2024- 2025)"
   ]
  },
  {
   "cell_type": "code",
   "execution_count": 2,
   "id": "73de0ea2",
   "metadata": {},
   "outputs": [
    {
     "data": {
      "text/html": [
       "\n",
       "            <style>\n",
       "                .geemap-dark {\n",
       "                    --jp-widgets-color: white;\n",
       "                    --jp-widgets-label-color: white;\n",
       "                    --jp-ui-font-color1: white;\n",
       "                    --jp-layout-color2: #454545;\n",
       "                    background-color: #383838;\n",
       "                }\n",
       "\n",
       "                .geemap-dark .jupyter-button {\n",
       "                    --jp-layout-color3: #383838;\n",
       "                }\n",
       "\n",
       "                .geemap-colab {\n",
       "                    background-color: var(--colab-primary-surface-color, white);\n",
       "                }\n",
       "\n",
       "                .geemap-colab .jupyter-button {\n",
       "                    --jp-layout-color3: var(--colab-primary-surface-color, white);\n",
       "                }\n",
       "            </style>\n",
       "            "
      ],
      "text/plain": [
       "<IPython.core.display.HTML object>"
      ]
     },
     "metadata": {},
     "output_type": "display_data"
    }
   ],
   "source": [
    "#example of Area of Interest \n",
    "aoi = ee.FeatureCollection('projects/ee-agilakbar/assets/AOI_Garsel_L9')\n",
    "# Get embeddings for two different periods\n",
    "image_2023 = get_sat_embedding(aoi, 2023, 2024)\n",
    "image_2024 = get_sat_embedding(aoi, 2024, 2025)\n",
    "#combine the two image\n",
    "finalimage = ee.ImageCollection([image_2023, image_2024]).mosaic()\n",
    "#add visualization parameter\n",
    "vis_params = {'min': -0.3, 'max': 0.3, 'bands': ['A01', 'A16', 'A09']}"
   ]
  },
  {
   "cell_type": "markdown",
   "id": "d5b4b34d",
   "metadata": {},
   "source": [
    "***2.1 Visualize the satellite embedding data***"
   ]
  },
  {
   "cell_type": "code",
   "execution_count": 3,
   "id": "d2de395c",
   "metadata": {},
   "outputs": [
    {
     "data": {
      "text/html": [
       "\n",
       "            <style>\n",
       "                .geemap-dark {\n",
       "                    --jp-widgets-color: white;\n",
       "                    --jp-widgets-label-color: white;\n",
       "                    --jp-ui-font-color1: white;\n",
       "                    --jp-layout-color2: #454545;\n",
       "                    background-color: #383838;\n",
       "                }\n",
       "\n",
       "                .geemap-dark .jupyter-button {\n",
       "                    --jp-layout-color3: #383838;\n",
       "                }\n",
       "\n",
       "                .geemap-colab {\n",
       "                    background-color: var(--colab-primary-surface-color, white);\n",
       "                }\n",
       "\n",
       "                .geemap-colab .jupyter-button {\n",
       "                    --jp-layout-color3: var(--colab-primary-surface-color, white);\n",
       "                }\n",
       "            </style>\n",
       "            "
      ],
      "text/plain": [
       "<IPython.core.display.HTML object>"
      ]
     },
     "metadata": {},
     "output_type": "display_data"
    },
    {
     "data": {
      "application/vnd.jupyter.widget-view+json": {
       "model_id": "aee0b617506b46f68ee233ad945d4fad",
       "version_major": 2,
       "version_minor": 0
      },
      "text/plain": [
       "Map(center=[-7.500685301245826, 107.75130712444813], controls=(WidgetControl(options=['position', 'transparent…"
      ]
     },
     "execution_count": 3,
     "metadata": {},
     "output_type": "execute_result"
    }
   ],
   "source": [
    "# Adding Basemap\n",
    "m = geemap.Map()\n",
    "# set center of the map in the area of interest\n",
    "m.centerObject(aoi, 10)\n",
    "# adding the data\n",
    "m.addLayer(finalimage, vis_params, 'Mosaic_embedd_2023-2024')\n",
    "m"
   ]
  },
  {
   "cell_type": "markdown",
   "id": "ac631467",
   "metadata": {},
   "source": [
    "***2.2 Defined the region of interest (ROI)***\n",
    "<br>\n",
    "1. The roi is created using visual interpretation using Landsat collection data, containing 21 Land Cover and Land\n",
    "Use classes, based on Indonesia's official classification system (SNI)\n",
    "2. Partitioned the original ROI into training and testing data using ***extract_pixel_value*** function. The partitioning process implement random partitioned with 60% allocated as training data and 40% as testing data\n"
   ]
  },
  {
   "cell_type": "code",
   "execution_count": null,
   "id": "29755091",
   "metadata": {},
   "outputs": [
    {
     "data": {
      "text/html": [
       "\n",
       "            <style>\n",
       "                .geemap-dark {\n",
       "                    --jp-widgets-color: white;\n",
       "                    --jp-widgets-label-color: white;\n",
       "                    --jp-ui-font-color1: white;\n",
       "                    --jp-layout-color2: #454545;\n",
       "                    background-color: #383838;\n",
       "                }\n",
       "\n",
       "                .geemap-dark .jupyter-button {\n",
       "                    --jp-layout-color3: #383838;\n",
       "                }\n",
       "\n",
       "                .geemap-colab {\n",
       "                    background-color: var(--colab-primary-surface-color, white);\n",
       "                }\n",
       "\n",
       "                .geemap-colab .jupyter-button {\n",
       "                    --jp-layout-color3: var(--colab-primary-surface-color, white);\n",
       "                }\n",
       "            </style>\n",
       "            "
      ],
      "text/plain": [
       "<IPython.core.display.HTML object>"
      ]
     },
     "metadata": {},
     "output_type": "display_data"
    }
   ],
   "source": [
    "# defining the training data\n",
    "labeled_roi = ee.FeatureCollection('projects/ee-agilakbar/assets/LULC_Training_data_Garsel_project')\n",
    "# partitioned the ROI into training and testing data, then extract the pixel values (sample regions)\n",
    "train_samples, test_samples = extract_pixel_value(\n",
    "    image=finalimage,\n",
    "    roi=labeled_roi,\n",
    "    class_property='LUCID',\n",
    "    scale=10,\n",
    "    split_ratio=0.5,\n",
    "    tile_scale=16\n",
    ")"
   ]
  },
  {
   "cell_type": "markdown",
   "id": "9440e3a5",
   "metadata": {},
   "source": [
    "**3. Parameter Optimization**\n",
    "<br>\n",
    "Since google earth engine did not have built-in parameter optimization, manual testing of the parameters is conducted. The SMILE Random Forest classifier is implemented, in which two primary parameters is tested, namely number of estimator (n_trees) and number of variable selected per split (var_split)."
   ]
  },
  {
   "cell_type": "code",
   "execution_count": 8,
   "id": "b8f791a0",
   "metadata": {},
   "outputs": [
    {
     "data": {
      "text/html": [
       "\n",
       "            <style>\n",
       "                .geemap-dark {\n",
       "                    --jp-widgets-color: white;\n",
       "                    --jp-widgets-label-color: white;\n",
       "                    --jp-ui-font-color1: white;\n",
       "                    --jp-layout-color2: #454545;\n",
       "                    background-color: #383838;\n",
       "                }\n",
       "\n",
       "                .geemap-dark .jupyter-button {\n",
       "                    --jp-layout-color3: #383838;\n",
       "                }\n",
       "\n",
       "                .geemap-colab {\n",
       "                    background-color: var(--colab-primary-surface-color, white);\n",
       "                }\n",
       "\n",
       "                .geemap-colab .jupyter-button {\n",
       "                    --jp-layout-color3: var(--colab-primary-surface-color, white);\n",
       "                }\n",
       "            </style>\n",
       "            "
      ],
      "text/plain": [
       "<IPython.core.display.HTML object>"
      ]
     },
     "metadata": {},
     "output_type": "display_data"
    }
   ],
   "source": [
    "# Define your search grid\n",
    "num_trees_list = ee.List.sequence(100, 400, 100)\n",
    "var_split_list = ee.List.sequence(3, 16, 3)\n",
    "#Create an empty list to collect results\n",
    "results = []\n",
    "\n",
    "# Loop over numberOfTrees\n",
    "for n_tree in num_trees_list.getInfo():\n",
    "    for var_split in var_split_list.getInfo():\n",
    "        # Define and train classifier\n",
    "        classifier = ee.Classifier.smileRandomForest(\n",
    "            numberOfTrees=n_tree,\n",
    "            variablesPerSplit=var_split\n",
    "        ).train(\n",
    "            features=train_samples,\n",
    "            classProperty='LUCID',\n",
    "            inputProperties=finalimage.bandNames()\n",
    "        )\n",
    "\n",
    "        # Apply classifier to test set and compute accuracy\n",
    "        test_classified = test_samples.classify(classifier)\n",
    "        error_matrix = test_classified.errorMatrix('LUCID', 'classification')\n",
    "        try:\n",
    "            accuracy = error_matrix.accuracy().getInfo()\n",
    "        except:\n",
    "            accuracy = 0  # fallback if something fails\n",
    "\n",
    "        # Store result\n",
    "        results.append({\n",
    "            'numberOfTrees': n_tree,\n",
    "            'variablesPerSplit': var_split,\n",
    "            'accuracy': accuracy\n",
    "        })"
   ]
  },
  {
   "cell_type": "markdown",
   "id": "a96e9de4",
   "metadata": {},
   "source": [
    "***3.1 Inspect the best parameters***"
   ]
  },
  {
   "cell_type": "code",
   "execution_count": 9,
   "id": "81a46538",
   "metadata": {},
   "outputs": [
    {
     "data": {
      "text/html": [
       "\n",
       "            <style>\n",
       "                .geemap-dark {\n",
       "                    --jp-widgets-color: white;\n",
       "                    --jp-widgets-label-color: white;\n",
       "                    --jp-ui-font-color1: white;\n",
       "                    --jp-layout-color2: #454545;\n",
       "                    background-color: #383838;\n",
       "                }\n",
       "\n",
       "                .geemap-dark .jupyter-button {\n",
       "                    --jp-layout-color3: #383838;\n",
       "                }\n",
       "\n",
       "                .geemap-colab {\n",
       "                    background-color: var(--colab-primary-surface-color, white);\n",
       "                }\n",
       "\n",
       "                .geemap-colab .jupyter-button {\n",
       "                    --jp-layout-color3: var(--colab-primary-surface-color, white);\n",
       "                }\n",
       "            </style>\n",
       "            "
      ],
      "text/plain": [
       "<IPython.core.display.HTML object>"
      ]
     },
     "metadata": {},
     "output_type": "display_data"
    },
    {
     "name": "stdout",
     "output_type": "stream",
     "text": [
      "Best Hyperparameters:\n",
      "- Accuracy: 0.873\n",
      "- numberOfTrees: 400.0\n",
      "- variablesPerSplit: 6.0\n"
     ]
    }
   ],
   "source": [
    "#convert the result into panda data frame\n",
    "result_pd = pd.DataFrame(results)\n",
    "#sort the accuracy to viewed the\n",
    "df_sorted = result_pd.sort_values(by='accuracy', ascending=False)\n",
    "best_result = df_sorted.iloc[0]\n",
    "\n",
    "print(\"Best Hyperparameters:\")\n",
    "print(f\"- Accuracy: {best_result['accuracy']:.3f}\")\n",
    "print(f\"- numberOfTrees: {best_result['numberOfTrees']}\")\n",
    "print(f\"- variablesPerSplit: {best_result['variablesPerSplit']}\")"
   ]
  },
  {
   "cell_type": "markdown",
   "id": "e3c2bfcb",
   "metadata": {},
   "source": [
    "***3.2 Select the best parameters,  trained the classifier, and apply the model into the whole imagery***"
   ]
  },
  {
   "cell_type": "code",
   "execution_count": null,
   "id": "ed2ae363",
   "metadata": {},
   "outputs": [
    {
     "data": {
      "text/html": [
       "\n",
       "            <style>\n",
       "                .geemap-dark {\n",
       "                    --jp-widgets-color: white;\n",
       "                    --jp-widgets-label-color: white;\n",
       "                    --jp-ui-font-color1: white;\n",
       "                    --jp-layout-color2: #454545;\n",
       "                    background-color: #383838;\n",
       "                }\n",
       "\n",
       "                .geemap-dark .jupyter-button {\n",
       "                    --jp-layout-color3: #383838;\n",
       "                }\n",
       "\n",
       "                .geemap-colab {\n",
       "                    background-color: var(--colab-primary-surface-color, white);\n",
       "                }\n",
       "\n",
       "                .geemap-colab .jupyter-button {\n",
       "                    --jp-layout-color3: var(--colab-primary-surface-color, white);\n",
       "                }\n",
       "            </style>\n",
       "            "
      ],
      "text/plain": [
       "<IPython.core.display.HTML object>"
      ]
     },
     "metadata": {},
     "output_type": "display_data"
    }
   ],
   "source": [
    "#get the best parameters\n",
    "best_ntree = int(best_result['numberOfTrees'])\n",
    "best_vsplit = int(best_result['variablesPerSplit'])\n",
    "#apply the best parameters, and trained the model\n",
    "final_classifier = ee.Classifier.smileRandomForest(\n",
    "    numberOfTrees=best_ntree,\n",
    "    variablesPerSplit=best_vsplit\n",
    ").train(\n",
    "    features=train_samples,\n",
    "    classProperty='LUCID',\n",
    "    inputProperties=finalimage.bandNames()\n",
    ")\n",
    "#apply the trained model into the whole image\n",
    "lulc_map = finalimage.classify(final_classifier)"
   ]
  },
  {
   "cell_type": "markdown",
   "id": "d42f9a76",
   "metadata": {},
   "source": [
    "**4. Visualize the result of the classification**"
   ]
  },
  {
   "cell_type": "code",
   "execution_count": null,
   "id": "3e52d822",
   "metadata": {},
   "outputs": [
    {
     "data": {
      "text/html": [
       "\n",
       "            <style>\n",
       "                .geemap-dark {\n",
       "                    --jp-widgets-color: white;\n",
       "                    --jp-widgets-label-color: white;\n",
       "                    --jp-ui-font-color1: white;\n",
       "                    --jp-layout-color2: #454545;\n",
       "                    background-color: #383838;\n",
       "                }\n",
       "\n",
       "                .geemap-dark .jupyter-button {\n",
       "                    --jp-layout-color3: #383838;\n",
       "                }\n",
       "\n",
       "                .geemap-colab {\n",
       "                    background-color: var(--colab-primary-surface-color, white);\n",
       "                }\n",
       "\n",
       "                .geemap-colab .jupyter-button {\n",
       "                    --jp-layout-color3: var(--colab-primary-surface-color, white);\n",
       "                }\n",
       "            </style>\n",
       "            "
      ],
      "text/plain": [
       "<IPython.core.display.HTML object>"
      ]
     },
     "metadata": {},
     "output_type": "display_data"
    },
    {
     "data": {
      "application/vnd.jupyter.widget-view+json": {
       "model_id": "0a538e7e278d41e1a4eee030357f1fc6",
       "version_major": 2,
       "version_minor": 0
      },
      "text/plain": [
       "Map(center=[-7.500685301245826, 107.75130712444813], controls=(WidgetControl(options=['position', 'transparent…"
      ]
     },
     "execution_count": 37,
     "metadata": {},
     "output_type": "execute_result"
    }
   ],
   "source": [
    "legend_21 = [\n",
    "    'Settlement Build-up', 'Non-settlement Build-up', 'Volcanic Rock and Sand', 'Lowland Forest',\n",
    "    'Upland Forest', 'Mangrove Forest', 'Marine Sand', 'Herbs and Grassland', 'Production Forest',\n",
    "    'Aquaculture', 'Dryland Agriculture', 'Natural Fallow Land', 'Man-made Fallow Land', 'Rubber and Other Hardwood Plantation',\n",
    "    'Ocean Waters','Oil Palm Plantatation','Tea Plantation', 'Bushes and Shrubs', 'Rivers', 'Wetland Agriculture',\n",
    "    'Natural/Semi Natural Freshwaterbody'\n",
    "]\n",
    "\n",
    "legend_colors = [\n",
    "    '#FF0000', '#e97421', '#7b3531', '#2e8b57', '#228b22', '#7fffd4', '#fdd9b5',\n",
    "    '#c1e1c1', '#9acd32', '#ccccff', '#f5ff00', '#b5a642', '#cc8899', '#32cd32',\n",
    "    '#1f52dc', '#808000', '#98d97d', '#008080', '#87ceeb', '#afb325', '#0f3c5e'\n",
    "]\n",
    "Map = geemap.Map()\n",
    "\n",
    "# Visualization\n",
    "vis_params = {\n",
    "    'min': 0,\n",
    "    'max': len(legend_colors) - 1,\n",
    "    'palette': legend_colors\n",
    "}\n",
    "Map.centerObject(aoi, 10)\n",
    "Map.addLayer(lulc_map, vis_params, 'Classified Map')\n",
    "# Add legend\n",
    "Map.add_legend(title='Land Cover Legend', labels=legend_21, colors=legend_colors)\n",
    "Map\n"
   ]
  },
  {
   "cell_type": "markdown",
   "id": "dc76d32b",
   "metadata": {},
   "source": [
    "**5. Inspect the Model using feature importance analysis**"
   ]
  },
  {
   "cell_type": "code",
   "execution_count": null,
   "id": "27fba83b",
   "metadata": {},
   "outputs": [
    {
     "data": {
      "text/html": [
       "\n",
       "            <style>\n",
       "                .geemap-dark {\n",
       "                    --jp-widgets-color: white;\n",
       "                    --jp-widgets-label-color: white;\n",
       "                    --jp-ui-font-color1: white;\n",
       "                    --jp-layout-color2: #454545;\n",
       "                    background-color: #383838;\n",
       "                }\n",
       "\n",
       "                .geemap-dark .jupyter-button {\n",
       "                    --jp-layout-color3: #383838;\n",
       "                }\n",
       "\n",
       "                .geemap-colab {\n",
       "                    background-color: var(--colab-primary-surface-color, white);\n",
       "                }\n",
       "\n",
       "                .geemap-colab .jupyter-button {\n",
       "                    --jp-layout-color3: var(--colab-primary-surface-color, white);\n",
       "                }\n",
       "            </style>\n",
       "            "
      ],
      "text/plain": [
       "<IPython.core.display.HTML object>"
      ]
     },
     "metadata": {},
     "output_type": "display_data"
    }
   ],
   "source": [
    "# Get the raw importance dictionary\n",
    "importance_dict = ee.Dictionary(final_classifier.explain().get('importance'))\n",
    "# Sum of importance values\n",
    "importance_sum = importance_dict.values().reduce(ee.Reducer.sum())\n",
    "# Calculate relative importance (percentage)\n",
    "relative_importance = importance_dict.map(\n",
    "    lambda key, val: ee.Number(val).multiply(100).divide(importance_sum)\n",
    ")\n",
    "# Convert to FeatureCollection so it can be viewed/exported\n",
    "importance_fc = ee.FeatureCollection([\n",
    "    ee.Feature(None, relative_importance)\n",
    "])"
   ]
  },
  {
   "cell_type": "code",
   "execution_count": null,
   "id": "4cd14247",
   "metadata": {},
   "outputs": [
    {
     "data": {
      "text/html": [
       "\n",
       "            <style>\n",
       "                .geemap-dark {\n",
       "                    --jp-widgets-color: white;\n",
       "                    --jp-widgets-label-color: white;\n",
       "                    --jp-ui-font-color1: white;\n",
       "                    --jp-layout-color2: #454545;\n",
       "                    background-color: #383838;\n",
       "                }\n",
       "\n",
       "                .geemap-dark .jupyter-button {\n",
       "                    --jp-layout-color3: #383838;\n",
       "                }\n",
       "\n",
       "                .geemap-colab {\n",
       "                    background-color: var(--colab-primary-surface-color, white);\n",
       "                }\n",
       "\n",
       "                .geemap-colab .jupyter-button {\n",
       "                    --jp-layout-color3: var(--colab-primary-surface-color, white);\n",
       "                }\n",
       "            </style>\n",
       "            "
      ],
      "text/plain": [
       "<IPython.core.display.HTML object>"
      ]
     },
     "metadata": {},
     "output_type": "display_data"
    },
    {
     "name": "stdout",
     "output_type": "stream",
     "text": [
      "   Band  Relative Importance (%)\n",
      "36  A36                 1.811743\n",
      "12  A12                 1.802641\n",
      "56  A56                 1.783831\n",
      "6   A06                 1.777946\n",
      "22  A22                 1.771718\n",
      "..  ...                      ...\n",
      "19  A19                 1.394186\n",
      "17  A17                 1.386244\n",
      "62  A62                 1.353693\n",
      "29  A29                 1.332755\n",
      "49  A49                 1.261691\n",
      "\n",
      "[64 rows x 2 columns]\n"
     ]
    }
   ],
   "source": [
    "# Convert dictionary to Python dict\n",
    "importance_data = relative_importance.getInfo()\n",
    "# Convert to pandas DataFrame\n",
    "df_importance = pd.DataFrame(list(importance_data.items()), columns=['Band', 'Relative Importance (%)'])\n",
    "# Sort by importance\n",
    "df_importance = df_importance.sort_values(by='Relative Importance (%)', ascending=False)\n",
    "print(df_importance)"
   ]
  },
  {
   "cell_type": "code",
   "execution_count": null,
   "id": "5cab3e05",
   "metadata": {},
   "outputs": [
    {
     "data": {
      "text/html": [
       "\n",
       "            <style>\n",
       "                .geemap-dark {\n",
       "                    --jp-widgets-color: white;\n",
       "                    --jp-widgets-label-color: white;\n",
       "                    --jp-ui-font-color1: white;\n",
       "                    --jp-layout-color2: #454545;\n",
       "                    background-color: #383838;\n",
       "                }\n",
       "\n",
       "                .geemap-dark .jupyter-button {\n",
       "                    --jp-layout-color3: #383838;\n",
       "                }\n",
       "\n",
       "                .geemap-colab {\n",
       "                    background-color: var(--colab-primary-surface-color, white);\n",
       "                }\n",
       "\n",
       "                .geemap-colab .jupyter-button {\n",
       "                    --jp-layout-color3: var(--colab-primary-surface-color, white);\n",
       "                }\n",
       "            </style>\n",
       "            "
      ],
      "text/plain": [
       "<IPython.core.display.HTML object>"
      ]
     },
     "metadata": {},
     "output_type": "display_data"
    },
    {
     "data": {
      "image/png": "[encoded data removed]",
      "text/plain": [
       "<Figure size 1000x800 with 1 Axes>"
      ]
     },
     "metadata": {},
     "output_type": "display_data"
    }
   ],
   "source": [
    "#plot the feature importance using matplot lib\n",
    "# Optional: Show only top 20 features\n",
    "top_n = 20\n",
    "df_plot = df_importance.tail(top_n)\n",
    "\n",
    "# Plot\n",
    "plt.figure(figsize=(10, 8))\n",
    "plt.barh(df_plot['Band'], df_plot['Relative Importance (%)'], color='steelblue')\n",
    "plt.xlabel('Relative Importance (%)')\n",
    "plt.title(f'Top {top_n} Most Important Features (Random Forest)', fontsize=14)\n",
    "plt.xticks(fontsize=10)\n",
    "plt.yticks(fontsize=10)\n",
    "plt.tight_layout()\n",
    "plt.show()"
   ]
  },
  {
   "cell_type": "markdown",
   "id": "b9671ed7",
   "metadata": {},
   "source": [
    "**6. Export the result in Google Drive**"
   ]
  },
  {
   "cell_type": "code",
   "execution_count": null,
   "id": "97d490e7",
   "metadata": {},
   "outputs": [
    {
     "data": {
      "text/html": [
       "\n",
       "            <style>\n",
       "                .geemap-dark {\n",
       "                    --jp-widgets-color: white;\n",
       "                    --jp-widgets-label-color: white;\n",
       "                    --jp-ui-font-color1: white;\n",
       "                    --jp-layout-color2: #454545;\n",
       "                    background-color: #383838;\n",
       "                }\n",
       "\n",
       "                .geemap-dark .jupyter-button {\n",
       "                    --jp-layout-color3: #383838;\n",
       "                }\n",
       "\n",
       "                .geemap-colab {\n",
       "                    background-color: var(--colab-primary-surface-color, white);\n",
       "                }\n",
       "\n",
       "                .geemap-colab .jupyter-button {\n",
       "                    --jp-layout-color3: var(--colab-primary-surface-color, white);\n",
       "                }\n",
       "            </style>\n",
       "            "
      ],
      "text/plain": [
       "<IPython.core.display.HTML object>"
      ]
     },
     "metadata": {},
     "output_type": "display_data"
    },
    {
     "name": "stdout",
     "output_type": "stream",
     "text": [
      "Exporting... (status: READY)\n",
      "Exporting... (status: RUNNING)\n",
      "Exporting... (status: RUNNING)\n",
      "Exporting... (status: RUNNING)\n",
      "Exporting... (status: RUNNING)\n",
      "Exporting... (status: RUNNING)\n",
      "Exporting... (status: RUNNING)\n",
      "Exporting... (status: RUNNING)\n",
      "Exporting... (status: RUNNING)\n",
      "Exporting... (status: RUNNING)\n",
      "Exporting... (status: RUNNING)\n",
      "Exporting... (status: RUNNING)\n",
      "Exporting... (status: RUNNING)\n",
      "Exporting... (status: RUNNING)\n",
      "Exporting... (status: RUNNING)\n",
      "Exporting... (status: RUNNING)\n",
      "Exporting... (status: RUNNING)\n",
      "Exporting... (status: RUNNING)\n",
      "Exporting... (status: RUNNING)\n",
      "Exporting... (status: RUNNING)\n",
      "Exporting... (status: RUNNING)\n",
      "Exporting... (status: RUNNING)\n",
      "Exporting... (status: RUNNING)\n",
      "Exporting... (status: RUNNING)\n",
      "Exporting... (status: RUNNING)\n",
      "Exporting... (status: RUNNING)\n",
      "Exporting... (status: RUNNING)\n",
      "Exporting... (status: RUNNING)\n",
      "Exporting... (status: RUNNING)\n",
      "Exporting... (status: RUNNING)\n",
      "Exporting... (status: RUNNING)\n",
      "Exporting... (status: RUNNING)\n",
      "Exporting... (status: RUNNING)\n",
      "Exporting... (status: RUNNING)\n",
      "Exporting... (status: RUNNING)\n",
      "Exporting... (status: RUNNING)\n",
      "Exporting... (status: RUNNING)\n",
      "Exporting... (status: RUNNING)\n",
      "Exporting... (status: RUNNING)\n",
      "Exporting... (status: RUNNING)\n",
      "Exporting... (status: RUNNING)\n",
      "Exporting... (status: RUNNING)\n",
      "Exporting... (status: RUNNING)\n",
      "Exporting... (status: RUNNING)\n",
      "Exporting... (status: RUNNING)\n",
      "Exporting... (status: RUNNING)\n",
      "Exporting... (status: RUNNING)\n",
      "Exporting... (status: RUNNING)\n",
      "Exporting... (status: RUNNING)\n",
      "Exporting... (status: RUNNING)\n",
      "Exporting... (status: RUNNING)\n",
      "Exporting... (status: RUNNING)\n",
      "Exporting... (status: RUNNING)\n",
      "Exporting... (status: RUNNING)\n",
      "Exporting... (status: RUNNING)\n",
      "Exporting... (status: RUNNING)\n",
      "Export complete (status: COMPLETED)\n"
     ]
    }
   ],
   "source": [
    "export_task = ee.batch.Export.image.toDrive(\n",
    "    image=lulc_map,\n",
    "    description='RF_Classification_Result',\n",
    "    folder='Earth Engine',\n",
    "    fileNamePrefix='classification_rf',\n",
    "    scale=10,\n",
    "    region=aoi.geometry(),  # or aoi.geometry()\n",
    "    maxPixels=1e13\n",
    ")\n",
    "export_task.start()\n",
    "import time\n",
    "\n",
    "while export_task.active():\n",
    "    print('Exporting... (status: {})'.format(export_task.status()['state']))\n",
    "    time.sleep(10)\n",
    "\n",
    "print('Export complete (status: {})'.format(export_task.status()['state']))"
   ]
  },
  {
   "cell_type": "markdown",
   "id": "e0e93190",
   "metadata": {},
   "source": [
    "**Implementation using Gradient Boosting Classifier**"
   ]
  },
  {
   "cell_type": "code",
   "execution_count": 11,
   "id": "2c7993e6",
   "metadata": {},
   "outputs": [
    {
     "data": {
      "text/html": [
       "\n",
       "            <style>\n",
       "                .geemap-dark {\n",
       "                    --jp-widgets-color: white;\n",
       "                    --jp-widgets-label-color: white;\n",
       "                    --jp-ui-font-color1: white;\n",
       "                    --jp-layout-color2: #454545;\n",
       "                    background-color: #383838;\n",
       "                }\n",
       "\n",
       "                .geemap-dark .jupyter-button {\n",
       "                    --jp-layout-color3: #383838;\n",
       "                }\n",
       "\n",
       "                .geemap-colab {\n",
       "                    background-color: var(--colab-primary-surface-color, white);\n",
       "                }\n",
       "\n",
       "                .geemap-colab .jupyter-button {\n",
       "                    --jp-layout-color3: var(--colab-primary-surface-color, white);\n",
       "                }\n",
       "            </style>\n",
       "            "
      ],
      "text/plain": [
       "<IPython.core.display.HTML object>"
      ]
     },
     "metadata": {},
     "output_type": "display_data"
    }
   ],
   "source": [
    "param_grid = {\n",
    "    'numberOfTrees': [100, 300, 500],\n",
    "    'shrinkage': [0.005, 0.01, 0.1],\n",
    "    'samplingRate': [0.7, 0.9],\n",
    "    'seed': [0]\n",
    "}\n",
    "gbt_result = []"
   ]
  },
  {
   "cell_type": "code",
   "execution_count": null,
   "id": "88aac513",
   "metadata": {},
   "outputs": [
    {
     "data": {
      "text/html": [
       "\n",
       "            <style>\n",
       "                .geemap-dark {\n",
       "                    --jp-widgets-color: white;\n",
       "                    --jp-widgets-label-color: white;\n",
       "                    --jp-ui-font-color1: white;\n",
       "                    --jp-layout-color2: #454545;\n",
       "                    background-color: #383838;\n",
       "                }\n",
       "\n",
       "                .geemap-dark .jupyter-button {\n",
       "                    --jp-layout-color3: #383838;\n",
       "                }\n",
       "\n",
       "                .geemap-colab {\n",
       "                    background-color: var(--colab-primary-surface-color, white);\n",
       "                }\n",
       "\n",
       "                .geemap-colab .jupyter-button {\n",
       "                    --jp-layout-color3: var(--colab-primary-surface-color, white);\n",
       "                }\n",
       "            </style>\n",
       "            "
      ],
      "text/plain": [
       "<IPython.core.display.HTML object>"
      ]
     },
     "metadata": {},
     "output_type": "display_data"
    }
   ],
   "source": [
    "# Grid search loop for Gradient Tree Boost\n",
    "for n in param_grid['numberOfTrees']:\n",
    "    for shrink in param_grid['shrinkage']:\n",
    "        for samp in param_grid['samplingRate']:\n",
    "                try:\n",
    "                    gbt = ee.Classifier.smileGradientTreeBoost(\n",
    "                        numberOfTrees=n,\n",
    "                        shrinkage=shrink,\n",
    "                        samplingRate=samp,\n",
    "                        loss='LeastAbsoluteDeviation',\n",
    "                        seed=0\n",
    "                    ).train(\n",
    "                        features=train_samples,\n",
    "                        classProperty='LUCID',\n",
    "                        inputProperties=finalimage.bandNames()\n",
    "                    )\n",
    "\n",
    "                    classified_test = test_samples.classify(gbt)\n",
    "                    em = classified_test.errorMatrix('LUCID', 'classification')\n",
    "                    acc = em.accuracy().getInfo()\n",
    "\n",
    "                    gbt_result.append({\n",
    "                        'numberOfTrees': n,\n",
    "                        'shrinkage': shrink,\n",
    "                        'samplingRate': samp,\n",
    "                        'accuracy': acc\n",
    "                    })\n",
    "\n",
    "                except Exception as e:\n",
    "                    print('Failed for params:', n, shrink, samp, e)"
   ]
  },
  {
   "cell_type": "code",
   "execution_count": null,
   "id": "8422fac2",
   "metadata": {},
   "outputs": [],
   "source": [
    "gbt_df = pd.DataFrame(gbt_result)\n",
    "best_gbt = gbt_df.sort_values('accuracy', ascending=False).iloc[0]\n",
    "print(\"Best params:\", best_gbt)"
   ]
  },
  {
   "cell_type": "code",
   "execution_count": null,
   "id": "15a67ca8",
   "metadata": {},
   "outputs": [],
   "source": [
    "# Train final classifier\n",
    "best_clf = ee.Classifier.smileGradientTreeBoost(\n",
    "    numberOfTrees=int(best_gbt['numberOfTrees']),\n",
    "    shrinkage=float(best_gbt['shrinkage']),\n",
    "    samplingRate=float(best_gbt['samplingRate']),\n",
    "    maxNodes=best_gbt['maxNodes'],\n",
    "    loss='LeastAbsoluteDeviation',\n",
    "    seed=0\n",
    ").train(\n",
    "    features=train_samples,\n",
    "    classProperty='LUCID',\n",
    "    inputProperties=finalimage.bandNames()\n",
    ")"
   ]
  }
 ],
 "metadata": {
  "kernelspec": {
   "display_name": "3.11.9",
   "language": "python",
   "name": "python3"
  },
  "language_info": {
   "codemirror_mode": {
    "name": "ipython",
    "version": 3
   },
   "file_extension": ".py",
   "mimetype": "text/x-python",
   "name": "python",
   "nbconvert_exporter": "python",
   "pygments_lexer": "ipython3",
   "version": "3.11.9"
  }
 },
 "nbformat": 4,
 "nbformat_minor": 5
}
