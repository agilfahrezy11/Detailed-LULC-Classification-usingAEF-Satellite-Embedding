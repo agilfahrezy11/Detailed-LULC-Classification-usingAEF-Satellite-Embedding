{
 "cells": [
  {
   "cell_type": "markdown",
   "id": "0b33ff9d",
   "metadata": {},
   "source": []
  },
  {
   "cell_type": "code",
   "execution_count": 1,
   "id": "1ef1d9ad",
   "metadata": {},
   "outputs": [],
   "source": [
    "# import the library\n",
    "import ee\n",
    "import geemap\n",
    "import numpy as np\n",
    "import matplotlib as plt\n",
    "import pandas as pd\n",
    "# Initialize Earth Engine\n",
    "ee.Authenticate()\n",
    "ee.Initialize()"
   ]
  },
  {
   "cell_type": "markdown",
   "id": "0ba2e670",
   "metadata": {},
   "source": []
  },
  {
   "cell_type": "code",
   "execution_count": 3,
   "id": "73de0ea2",
   "metadata": {},
   "outputs": [
    {
     "data": {
      "text/html": [
       "\n",
       "            <style>\n",
       "                .geemap-dark {\n",
       "                    --jp-widgets-color: white;\n",
       "                    --jp-widgets-label-color: white;\n",
       "                    --jp-ui-font-color1: white;\n",
       "                    --jp-layout-color2: #454545;\n",
       "                    background-color: #383838;\n",
       "                }\n",
       "\n",
       "                .geemap-dark .jupyter-button {\n",
       "                    --jp-layout-color3: #383838;\n",
       "                }\n",
       "\n",
       "                .geemap-colab {\n",
       "                    background-color: var(--colab-primary-surface-color, white);\n",
       "                }\n",
       "\n",
       "                .geemap-colab .jupyter-button {\n",
       "                    --jp-layout-color3: var(--colab-primary-surface-color, white);\n",
       "                }\n",
       "            </style>\n",
       "            "
      ],
      "text/plain": [
       "<IPython.core.display.HTML object>"
      ]
     },
     "metadata": {},
     "output_type": "display_data"
    }
   ],
   "source": [
    "#example of Area of Interest \n",
    "aoi = ee.FeatureCollection('projects/ee-agilakbar/assets/AOI_Garsel_L9')\n",
    "#sattelite Embedding Data\n",
    "dataset = ee.ImageCollection('GOOGLE/SATELLITE_EMBEDDING/V1/ANNUAL')\n",
    "#Reduce the image for 1 year in 2023\n",
    "#The area of interest required 2 image in two different period (2023 and 2024)\n",
    "#make this as a function\n",
    "image1 = dataset.filterDate('2023-01-01', '2024-01-01') \\\n",
    ".filterBounds(aoi) \\\n",
    ".median() \\\n",
    ".clip(aoi)\n",
    "image2 = dataset.filterDate('2024-01-01', '2025-01-01') \\\n",
    ".filterBounds(aoi) \\\n",
    ".median() \\\n",
    ".clip(aoi)\n",
    "#mosaic the image \n",
    "finalimage = ee.ImageCollection([image1, image2]).mosaic()\n",
    "#add visualization parameter\n",
    "band_vis = finalimage.select(['A01', 'A16', 'A09'])\n",
    "visParams = {\n",
    "    'min':-0.1,\n",
    "    'max': 0.3\n",
    "\n",
    "}"
   ]
  },
  {
   "cell_type": "code",
   "execution_count": 5,
   "id": "d2de395c",
   "metadata": {},
   "outputs": [
    {
     "data": {
      "text/html": [
       "\n",
       "            <style>\n",
       "                .geemap-dark {\n",
       "                    --jp-widgets-color: white;\n",
       "                    --jp-widgets-label-color: white;\n",
       "                    --jp-ui-font-color1: white;\n",
       "                    --jp-layout-color2: #454545;\n",
       "                    background-color: #383838;\n",
       "                }\n",
       "\n",
       "                .geemap-dark .jupyter-button {\n",
       "                    --jp-layout-color3: #383838;\n",
       "                }\n",
       "\n",
       "                .geemap-colab {\n",
       "                    background-color: var(--colab-primary-surface-color, white);\n",
       "                }\n",
       "\n",
       "                .geemap-colab .jupyter-button {\n",
       "                    --jp-layout-color3: var(--colab-primary-surface-color, white);\n",
       "                }\n",
       "            </style>\n",
       "            "
      ],
      "text/plain": [
       "<IPython.core.display.HTML object>"
      ]
     },
     "metadata": {},
     "output_type": "display_data"
    },
    {
     "data": {
      "application/vnd.jupyter.widget-view+json": {
       "model_id": "e3d83f8d6c1740d9970e35c49f394b83",
       "version_major": 2,
       "version_minor": 0
      },
      "text/plain": [
       "Map(center=[-7.500685301245826, 107.75130712444813], controls=(WidgetControl(options=['position', 'transparent…"
      ]
     },
     "execution_count": 5,
     "metadata": {},
     "output_type": "execute_result"
    }
   ],
   "source": [
    "# Adding Basemap\n",
    "m = geemap.Map()\n",
    "# set center of the map in the area of interest\n",
    "m.centerObject(aoi, 10)\n",
    "# adding the data\n",
    "m.addLayer(finalimage, visParams, 'Mosaic_embedd_2023-2024')\n",
    "m"
   ]
  },
  {
   "cell_type": "code",
   "execution_count": null,
   "id": "29755091",
   "metadata": {},
   "outputs": [],
   "source": [
    "# defining the training data\n",
    "roi = ee.FeatureCollection('projects/ee-agilakbar/assets/LULC_Training_data_Garsel_project')"
   ]
  }
 ],
 "metadata": {
  "kernelspec": {
   "display_name": "3.11.9",
   "language": "python",
   "name": "python3"
  },
  "language_info": {
   "codemirror_mode": {
    "name": "ipython",
    "version": 3
   },
   "file_extension": ".py",
   "mimetype": "text/x-python",
   "name": "python",
   "nbconvert_exporter": "python",
   "pygments_lexer": "ipython3",
   "version": "3.11.9"
  }
 },
 "nbformat": 4,
 "nbformat_minor": 5
}
